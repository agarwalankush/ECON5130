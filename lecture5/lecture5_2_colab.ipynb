{
 "cells": [
  {
   "cell_type": "markdown",
   "metadata": {
    "id": "dCCEsgjrn-7b"
   },
   "source": [
    "**Outline**\n",
    "- [Implementing RNNs for sequence modeling in PyTorch](#Implementing-RNNs-for-sequence-modeling-in-PyTorch)\n",
    "  - [Predicting the sentiment of IMDb movie reviews](#Predicting-the-sentiment-of-IMDb-movie-reviews)\n",
    "  - [Preparing the movie review data](#Preparing-the-movie-review-data)\n",
    "  - [Embedding layers for sentence encoding](#Embedding-layers-for-sentence-encoding)\n",
    "  - [Building an RNN model](#Building-an-RNN-model)\n",
    "  - [Building an RNN model for the sentiment analysis task](#Building-an-RNN-model-for-the-sentiment-analysis-task)\n",
    "  - [The bidirectional RNN](#The-bidirectional-RNN)"
   ]
  },
  {
   "cell_type": "markdown",
   "metadata": {
    "id": "am9cW1u1n-7d"
   },
   "source": [
    "# Implementing RNNs for sequence modeling in PyTorch"
   ]
  },
  {
   "cell_type": "markdown",
   "metadata": {
    "id": "vxWH-63vn-7e"
   },
   "source": [
    "## Predicting the sentiment of IMDb movie reviews"
   ]
  },
  {
   "cell_type": "markdown",
   "metadata": {
    "id": "5WLN_S2sn-7f"
   },
   "source": [
    "The sentiment analysis (language modeling) is concerned with analyzing the expressed opinion of a sentence or a text document. This can be very useful in creating a sentiment score for an exchange-listed firm or even a financial index by creating a sentiment score based on news articles and analyst reports. This is typically an approach which is used to automate the economicy policy sentiment indices such as the one developed by Baker and Bloom: https://www.policyuncertainty.com/"
   ]
  },
  {
   "cell_type": "markdown",
   "metadata": {
    "id": "9wCw0RCqn-7g"
   },
   "source": [
    "As any sentiment score would be based on a long sequence of text inputs, we implement a many-to-many RNN."
   ]
  },
  {
   "cell_type": "markdown",
   "metadata": {
    "id": "8lU-eT0sn-7g"
   },
   "source": [
    "### Preparing the movie review data"
   ]
  },
  {
   "cell_type": "code",
   "execution_count": null,
   "metadata": {
    "id": "8l98g5A2n-7h"
   },
   "outputs": [],
   "source": [
    "from IPython.display import Image\n",
    "%matplotlib inline"
   ]
  },
  {
   "cell_type": "markdown",
   "metadata": {
    "id": "x-EUGpB8n-7j"
   },
   "source": [
    "Each set has 25,000 samples. And each sample of the datasets consists of two elements, the sentiment label representing the target label we want to predict (`neg` refers to negative sentiment and `pos` refers to positive sentiment), and the movie review text (the input features). The text component of these movie reviews is sequences of words, and the RNN model classifies each sequence as a positive (`1`) or negative (`0`) review."
   ]
  },
  {
   "cell_type": "markdown",
   "metadata": {
    "id": "bUKac7gGn-7k"
   },
   "source": [
    "Before we feed the data into an RNN model, we need to apply several preprocessing steps:\n",
    "1. Split the training dataset into separate training and validation partitions.\n",
    "2. Identify the unique words in the training dataset\n",
    "3. Map each unique word to a unique integer and encode the review text into encoded integers\n",
    "(an index of each unique word)\n",
    "4. Divide the dataset into mini-batches as input to the model"
   ]
  },
  {
   "cell_type": "markdown",
   "metadata": {
    "id": "sWCJmVKWn-7k"
   },
   "source": [
    "First, we import the necessary modules and read the data from `torchtext` (which we install via `pip install torchtext`). To import data, we need to install `torchdata` as well."
   ]
  },
  {
   "cell_type": "code",
   "execution_count": 2,
   "metadata": {
    "colab": {
     "base_uri": "https://localhost:8080/"
    },
    "id": "IRcxQOcyMDr2",
    "outputId": "fe0bb165-c2c3-4b00-b5c1-64e125fdfb53"
   },
   "outputs": [
    {
     "name": "stdout",
     "output_type": "stream",
     "text": [
      "Collecting portalocker>=2.0.0\n",
      "  Downloading portalocker-2.8.2-py3-none-any.whl (17 kB)\n",
      "Installing collected packages: portalocker\n",
      "Successfully installed portalocker-2.8.2\n"
     ]
    }
   ],
   "source": [
    "# !pip install -U torchtext==0.10.0\n",
    "!pip install 'portalocker>=2.0.0'"
   ]
  },
  {
   "cell_type": "code",
   "execution_count": 1,
   "metadata": {
    "id": "3Hj3Nd9bn-7l"
   },
   "outputs": [],
   "source": [
    "from torchtext.datasets import IMDB\n",
    "from torch.utils.data.dataset import random_split\n",
    "\n",
    "# Step 1: load and create the datasets\n",
    "\n",
    "train_dataset = IMDB(split='train')\n",
    "test_dataset = IMDB(split='test')"
   ]
  },
  {
   "cell_type": "code",
   "execution_count": 2,
   "metadata": {
    "id": "C54O9bC4vpXx"
   },
   "outputs": [],
   "source": [
    "import torch\n",
    "torch.manual_seed(1)\n",
    "train_dataset, valid_dataset = random_split(list(train_dataset), [20000, 5000])\n",
    "test_dataset = list(test_dataset)"
   ]
  },
  {
   "cell_type": "code",
   "execution_count": 3,
   "metadata": {},
   "outputs": [
    {
     "name": "stdout",
     "output_type": "stream",
     "text": [
      "<torch.utils.data.dataset.Subset object at 0x000001EB0AE93790>\n"
     ]
    }
   ],
   "source": [
    "print(train_dataset)"
   ]
  },
  {
   "cell_type": "markdown",
   "metadata": {
    "id": "Tk43EiZqn-7m"
   },
   "source": [
    "The original training dataset contains 25,000 examples. 20,000 examples are randomly chosen for training, and 5,000 for validation."
   ]
  },
  {
   "cell_type": "markdown",
   "metadata": {
    "id": "vSMi_LcUn-7n"
   },
   "source": [
    "To prepare the data for input to an NN, we need to encode it into numeric values. To do this, we first find the unique words (tokens) in the training dataset. It is more efficient to use the `Counter` class from the `collections` package, which is part of Python’s standard library."
   ]
  },
  {
   "cell_type": "markdown",
   "metadata": {
    "id": "IgWyU8xCn-7o"
   },
   "source": [
    "In the following code, we instantiate a new `Counter` object (`token_counts`) that collects the unique word frequencies. Note that in this particular application (and in contrast to the `bag-of-words` model), we are only interested in the set of unique words and won’t require the word counts, which are created as a side product. In the `bag-of-words` model, we would have required to keep track of word count as well."
   ]
  },
  {
   "cell_type": "markdown",
   "metadata": {
    "id": "I_oqYiptn-7o"
   },
   "source": [
    "The `tokenizer` function removes HTML markups as well as punctuation and other non-letter characters."
   ]
  },
  {
   "cell_type": "code",
   "execution_count": 5,
   "metadata": {
    "colab": {
     "base_uri": "https://localhost:8080/"
    },
    "id": "yOgQsrySn-7p",
    "outputId": "46e89f5c-d982-489d-a945-ae6453a6d2bc"
   },
   "outputs": [
    {
     "name": "stdout",
     "output_type": "stream",
     "text": [
      "Vocab-size: 69023\n"
     ]
    }
   ],
   "source": [
    "## Step 2: find unique tokens (words)\n",
    "import re\n",
    "from collections import Counter, OrderedDict\n",
    "\n",
    "token_counts = Counter()\n",
    "\n",
    "def tokenizer(text):\n",
    "    text = re.sub('<[^>]*>', '', text)\n",
    "    emoticons = re.findall('(?::|;|=)(?:-)?(?:\\)|\\(|D|P)', text.lower())\n",
    "    text = re.sub('[\\W]+', ' ', text.lower()) +\\\n",
    "        ' '.join(emoticons).replace('-', '')\n",
    "    tokenized = text.split()\n",
    "    return tokenized\n",
    "\n",
    "\n",
    "for label, line in train_dataset:\n",
    "    tokens = tokenizer(line)\n",
    "    token_counts.update(tokens)\n",
    "\n",
    "\n",
    "print('Vocab-size:', len(token_counts))"
   ]
  },
  {
   "cell_type": "markdown",
   "metadata": {
    "id": "ApM5RYyLn-7r"
   },
   "source": [
    "We map each unique word to a unique integer. This can be done manually using a Python dictionary, where the keys are the unique tokens (words) and the value associated with each key is a unique integer. However, the `torchtext` package already provides a class, `Vocab`, which we use to create such a mapping and encode the entire dataset.\n",
    "\n",
    "First, we create a `vocab` object by passing the ordered dictionary mapping tokens to their corresponding occurrence frequencies\n",
    "(the ordered dictionary is the sorted `token_counts`). Second, we prepend two special tokens to the vocabulary – the padding and the unknown token."
   ]
  },
  {
   "cell_type": "markdown",
   "metadata": {
    "id": "9O3Vr4yin-7s"
   },
   "source": [
    "To demonstrate how to use the `vocab` object, we convert an example input text into a list of integer values."
   ]
  },
  {
   "cell_type": "code",
   "execution_count": 6,
   "metadata": {
    "colab": {
     "base_uri": "https://localhost:8080/"
    },
    "id": "aGvkgJlyn-7t",
    "outputId": "02eb7822-6156-491a-a74c-3854023ccd7b"
   },
   "outputs": [
    {
     "name": "stdout",
     "output_type": "stream",
     "text": [
      "[78, 18, 389, 104]\n"
     ]
    }
   ],
   "source": [
    "## Step 3: encoding each unique token into integers\n",
    "from torchtext.vocab import vocab\n",
    "\n",
    "sorted_by_freq_tuples = sorted(token_counts.items(), key=lambda x: x[1], reverse=True)\n",
    "ordered_dict = OrderedDict(sorted_by_freq_tuples)\n",
    "\n",
    "vocab = vocab(ordered_dict)\n",
    "\n",
    "vocab.insert_token(\"<pad>\", 0)\n",
    "vocab.insert_token(\"<unk>\", 1)\n",
    "vocab.set_default_index(1)\n",
    "\n",
    "print([vocab[token] for token in ['bad', 'movie', 'terrible', 'watch']])"
   ]
  },
  {
   "cell_type": "markdown",
   "metadata": {
    "id": "Z44xvRzVn-7u"
   },
   "source": [
    "Note that there might be some tokens in the validation or testing data that are not present in the training\n",
    "data and are thus not included in the mapping. If we have $q$ tokens (that is, the size of `token_counts`\n",
    "passed to `Vocab`, which in this case is 69,023), then all tokens that haven’t been seen before, and are\n",
    "thus not included in `token_counts`, will be assigned the integer `1` (a placeholder for the unknown token).\n",
    "In other words, the index `1` is reserved for unknown words. Another reserved value is the integer\n",
    "`0`, which serves as a placeholder, a so-called padding token, for adjusting the sequence length. This is handy when we are building an RNN model in PyTorch."
   ]
  },
  {
   "cell_type": "markdown",
   "metadata": {
    "id": "y_zlrR-zn-7v"
   },
   "source": [
    "Next we define the `text_pipeline` function to transform each text in the dataset accordingly and the `label_pipeline` function to convert each label to 1 or 0."
   ]
  },
  {
   "cell_type": "code",
   "execution_count": 7,
   "metadata": {
    "id": "uft7zaOTn-7w"
   },
   "outputs": [],
   "source": [
    "## Step 3-A: define the functions for transformation\n",
    "\n",
    "device = torch.device(\"cuda:0\") # use this when GPU on the computing device\n",
    "#device = 'cpu'\n",
    "\n",
    "text_pipeline = lambda x: [vocab[token] for token in tokenizer(x)]\n",
    "label_pipeline = lambda x: 1. if x == 2 else 0."
   ]
  },
  {
   "cell_type": "markdown",
   "metadata": {
    "id": "jUwpi-Ccn-7w"
   },
   "source": [
    "We generate batches of samples using `DataLoader` and pass the data processing pipelines declared previously to the argument `collate_fn`. We wrap the text encoding and label transformation function into the `collate_batch` function."
   ]
  },
  {
   "cell_type": "code",
   "execution_count": 8,
   "metadata": {
    "id": "XvEd_luQn-7w"
   },
   "outputs": [],
   "source": [
    "## Step 3-B: wrap the encode and transformation function\n",
    "def collate_batch(batch):\n",
    "    label_list, text_list, lengths = [], [], []\n",
    "    for _label, _text in batch:\n",
    "        label_list.append(label_pipeline(_label))\n",
    "        processed_text = torch.tensor(text_pipeline(_text),\n",
    "                                      dtype=torch.int64)\n",
    "        text_list.append(processed_text)\n",
    "        lengths.append(processed_text.size(0))\n",
    "    label_list = torch.tensor(label_list)\n",
    "    lengths = torch.tensor(lengths)\n",
    "    padded_text_list = nn.utils.rnn.pad_sequence(text_list, batch_first=True)\n",
    "    return padded_text_list.to(device), label_list.to(device), lengths.to(device)"
   ]
  },
  {
   "cell_type": "markdown",
   "metadata": {
    "id": "bybBX7MYn-7x"
   },
   "source": [
    "Above we convert sequences of words into sequences of integers, and labels of `pos` or `neg` into 1 or 0. However, the sequences currently have different lengths (as shown in the result of executing the following code for four examples). Although, in general, RNNs can handle sequences with different lengths, we still need to make sure that all the sequences in a mini-batch have the same length to store them efficiently in a tensor.\n",
    "\n",
    "PyTorch provides an efficient method, `pad_sequence()`, which automatically pads the consecutive elements that are to be combined into a batch with placeholder values (0s) so that all sequences within a batch will have the same shape.\n",
    "\n",
    "In the previous code, we already created a data loader of a small batch size from the training dataset and applied the `collate_batch` function, which itself included a `pad_sequence()` call."
   ]
  },
  {
   "cell_type": "code",
   "execution_count": 9,
   "metadata": {
    "colab": {
     "base_uri": "https://localhost:8080/"
    },
    "id": "8yXAeNwfn-7x",
    "outputId": "1b065de9-e1fa-49c7-c72d-74a813e46ff9"
   },
   "outputs": [
    {
     "name": "stdout",
     "output_type": "stream",
     "text": [
      "tensor([[   35,  1739,     7,   449,   721,     6,   301,     4,   787,     9,\n",
      "             4,    18,    44,     2,  1705,  2460,   186,    25,     7,    24,\n",
      "           100,  1874,  1739,    25,     7, 34415,  3568,  1103,  7517,   787,\n",
      "             5,     2,  4991, 12401,    36,     7,   148,   111,   939,     6,\n",
      "         11598,     2,   172,   135,    62,    25,  3199,  1602,     3,   928,\n",
      "          1500,     9,     6,  4601,     2,   155,    36,    14,   274,     4,\n",
      "         42945,     9,  4991,     3,    14, 10296,    34,  3568,     8,    51,\n",
      "           148,    30,     2,    58,    16,    11,  1893,   125,     6,   420,\n",
      "          1214,    27, 14542,   940,    11,     7,    29,   951,    18,    17,\n",
      "         15994,   459,    34,  2480, 15211,  3713,     2,   840,  3200,     9,\n",
      "          3568,    13,   107,     9,   175,    94,    25,    51, 10297,  1796,\n",
      "            27,   712,    16,     2,   220,    17,     4,    54,   722,   238,\n",
      "           395,     2,   787,    32,    27,  5236,     3,    32,    27,  7252,\n",
      "          5118,  2461,  6390,     4,  2873,  1495,    15,     2,  1054,  2874,\n",
      "           155,     3,  7015,     7,   409,     9,    41,   220,    17,    41,\n",
      "           390,     3,  3925,   807,    37,    74,  2858,    15, 10297,   115,\n",
      "            31,   189,  3506,   667,   163,     0,     0,     0,     0,     0,\n",
      "             0,     0,     0,     0,     0,     0,     0,     0,     0,     0,\n",
      "             0,     0,     0,     0,     0,     0,     0,     0,     0,     0,\n",
      "             0,     0,     0,     0,     0,     0,     0,     0,     0,     0,\n",
      "             0,     0,     0,     0,     0,     0,     0,     0,     0,     0,\n",
      "             0,     0,     0,     0,     0,     0,     0,     0],\n",
      "        [  216,   175,   724,     5,    11,    18,    10,   226,   110,    14,\n",
      "           182,    78,     8,    13,    24,   182,    78,     8,    13,   166,\n",
      "           182,    50,   150,    24,    85,     2,  4031,  5935,   107,    96,\n",
      "            28,  1867,   602,    19,    52,   162,    21,  1698,     8,     6,\n",
      "          1181,   367,     2,   351,    10,   140,   419,     4,   333,     5,\n",
      "          6022,  7136,  5055,  1209, 10892,    32,   219,     9,     2,   405,\n",
      "          1413,    13,  4031,    13,  1099,     7,    85,    19,     2,    20,\n",
      "          1018,     4,    85,   565,    34,    24,   807,    55,     5,    68,\n",
      "           658,    10,   507,     8,     4,   668,     0,     0,     0,     0,\n",
      "             0,     0,     0,     0,     0,     0,     0,     0,     0,     0,\n",
      "             0,     0,     0,     0,     0,     0,     0,     0,     0,     0,\n",
      "             0,     0,     0,     0,     0,     0,     0,     0,     0,     0,\n",
      "             0,     0,     0,     0,     0,     0,     0,     0,     0,     0,\n",
      "             0,     0,     0,     0,     0,     0,     0,     0,     0,     0,\n",
      "             0,     0,     0,     0,     0,     0,     0,     0,     0,     0,\n",
      "             0,     0,     0,     0,     0,     0,     0,     0,     0,     0,\n",
      "             0,     0,     0,     0,     0,     0,     0,     0,     0,     0,\n",
      "             0,     0,     0,     0,     0,     0,     0,     0,     0,     0,\n",
      "             0,     0,     0,     0,     0,     0,     0,     0,     0,     0,\n",
      "             0,     0,     0,     0,     0,     0,     0,     0,     0,     0,\n",
      "             0,     0,     0,     0,     0,     0,     0,     0,     0,     0,\n",
      "             0,     0,     0,     0,     0,     0,     0,     0],\n",
      "        [   10,   121,    24,    28,    98,    74,   589,     9,   149,     2,\n",
      "          7372,  3030, 14543,  1012,   520,     2,   985,  2327,     5, 16847,\n",
      "          5479,    19,    25,    67,    76,  3478,    38,     2,  7372,     3,\n",
      "            25,    67,    76,  2951,    34,    35, 10893,   155,   449, 29495,\n",
      "         23725,    10,    67,     2,   554,    12, 14543,    67,    91,     4,\n",
      "            50,    20,    19,     8,    67,    24,  4228,     2,  2142,    37,\n",
      "            33,  3478,    87,     3,  2564,   160,   155,    11,   634,   126,\n",
      "            24,   158,    72,   286,    13,   373,     2,  4804,    19,     2,\n",
      "          7372,  6794,     6,    30,   128,    73,    48,    10,   886,     8,\n",
      "            13,    24,     4,    85,    20,    19,     8,    13,    35,   218,\n",
      "             3,   428,   710,     2,   107,   936,     7,    54,    72,   223,\n",
      "             3,    10,    96,   122,     2,   103,    54,    72,    82,     2,\n",
      "           658,   202,     2,   106,   293,   103,     7,  1193,     3,  3031,\n",
      "           708,  5760,     3,  2918,  3991,   706,  3327,   349,   148,   286,\n",
      "            13,   139,     6,     2,  1501,   750,    29,  1407,    62,    65,\n",
      "          2612,    71,    40,    14,     4,   547,     9,    62,     8,  7943,\n",
      "            71,    14,     2,  5687,     5,  4868,  3111,     6,   205,     2,\n",
      "            18,    55,  2075,     3,   403,    12,  3111,   231,    45,     5,\n",
      "           271,     3,    68,  1400,     7,  9774,   932,    10,   102,     2,\n",
      "            20,   143,    28,    76,    55,  3810,     9,  2723,     5,    12,\n",
      "            10,   379,     2,  7372,    15,     4,    50,   710,     8,    13,\n",
      "            24,   887,    32,    31,    19,     8,    13,   428],\n",
      "        [18923,     7,     4,  4753,  1669,    12,  3019,     6,     4, 13906,\n",
      "           502,    40,    25,    77,  1588,     9,   115,     6, 21713,     2,\n",
      "            90,   305,   237,     9,   502,    33,    77,   376,     4, 16848,\n",
      "           847,    62,    77,   131,     9,     2,  1580,   338,     5, 18923,\n",
      "            32,     2,  1980,    49,   157,   306, 21713,    46,   981,     6,\n",
      "         10298,     2, 18924,   125,     9,   502,     3,   453,     4,  1852,\n",
      "           630,   407,  3407,    34,   277,    29,   242,     2, 20200,     5,\n",
      "         18923,    77,    95,    41,  1833,     6,  2105,    56,     3,   495,\n",
      "           214,   528,     2,  3479,     2,   112,     7,   181,  1813,     3,\n",
      "           597,     5,     2,   156,   294,     4,   543,   173,     9,  1562,\n",
      "           289, 10038,     5,     2,    20,    26,   841,  1392,    62,   130,\n",
      "           111,    72,   832,    26,   181, 12402,    15,    69,   183,     6,\n",
      "            66,    55,   936,     5,     2,    63,     8,     7,    43,     4,\n",
      "            78, 23726, 15995,    13,    20,    17,   800,     5,   392,    59,\n",
      "          3992,     3,   371,   103,  2596,     0,     0,     0,     0,     0,\n",
      "             0,     0,     0,     0,     0,     0,     0,     0,     0,     0,\n",
      "             0,     0,     0,     0,     0,     0,     0,     0,     0,     0,\n",
      "             0,     0,     0,     0,     0,     0,     0,     0,     0,     0,\n",
      "             0,     0,     0,     0,     0,     0,     0,     0,     0,     0,\n",
      "             0,     0,     0,     0,     0,     0,     0,     0,     0,     0,\n",
      "             0,     0,     0,     0,     0,     0,     0,     0,     0,     0,\n",
      "             0,     0,     0,     0,     0,     0,     0,     0]],\n",
      "       device='cuda:0')\n",
      "tensor([1., 1., 1., 0.], device='cuda:0')\n",
      "tensor([165,  86, 218, 145], device='cuda:0')\n",
      "torch.Size([4, 218])\n"
     ]
    }
   ],
   "source": [
    "## Take a small batch\n",
    "import torch.nn as nn\n",
    "\n",
    "from torch.utils.data import DataLoader\n",
    "dataloader = DataLoader(train_dataset, batch_size=4, shuffle=False, collate_fn=collate_batch)\n",
    "text_batch, label_batch, length_batch = next(iter(dataloader))\n",
    "print(text_batch)\n",
    "print(label_batch)\n",
    "print(length_batch)\n",
    "print(text_batch.shape)"
   ]
  },
  {
   "cell_type": "markdown",
   "metadata": {
    "id": "2qsJgNkvn-7y"
   },
   "source": [
    "As we can see above, after the padding has been applied, the batch has all 4 examples of length 218."
   ]
  },
  {
   "cell_type": "markdown",
   "metadata": {
    "id": "-BICKNTLn-7y"
   },
   "source": [
    "Finally, we divide all three datasets into data loaders with a batch size of 32."
   ]
  },
  {
   "cell_type": "code",
   "execution_count": 10,
   "metadata": {
    "colab": {
     "base_uri": "https://localhost:8080/"
    },
    "id": "oGo4u4stn-7z",
    "outputId": "095f973d-bc18-46aa-8da6-7ed3a33b23f6"
   },
   "outputs": [
    {
     "name": "stdout",
     "output_type": "stream",
     "text": [
      "5000\n"
     ]
    }
   ],
   "source": [
    "## Step 4: batching the datasets\n",
    "\n",
    "batch_size = 32\n",
    "\n",
    "train_dl = DataLoader(train_dataset, batch_size=batch_size,\n",
    "                      shuffle=True, collate_fn=collate_batch)\n",
    "valid_dl = DataLoader(valid_dataset, batch_size=batch_size,\n",
    "                      shuffle=False, collate_fn=collate_batch)\n",
    "test_dl = DataLoader(test_dataset, batch_size=batch_size,\n",
    "                     shuffle=False, collate_fn=collate_batch)\n",
    "print(len(valid_dl.dataset))"
   ]
  },
  {
   "cell_type": "markdown",
   "metadata": {
    "id": "Ch4UDyz7n-7z"
   },
   "source": [
    "Now, the data is in a suitable format for an RNN model."
   ]
  },
  {
   "cell_type": "markdown",
   "metadata": {
    "id": "HdqpBdSin-7z"
   },
   "source": [
    "We first discuss feature **embedding**, which is an optional but highly recommended preprocessing step that is used to reduce the dimensionality of the word vectors. Otherwise the input dimension could be unnecessarily large (think of dimension being the length of the input examples vocabulary), which can slow down the training or even result in a bad model fit."
   ]
  },
  {
   "cell_type": "markdown",
   "metadata": {
    "id": "86wSrEhsn-70"
   },
   "source": [
    "### Embedding layers for sentence encoding"
   ]
  },
  {
   "cell_type": "markdown",
   "metadata": {
    "id": "OtpP_hkDn-70"
   },
   "source": [
    "During the data preparation in the previous step, we generated sequences of the same length. The elements of these sequences were integer numbers that corresponded to the indices of unique words. These word indices can be converted into input features in several different ways.\n",
    "\n",
    "One naive way is to apply one-hot encoding to convert the indices into vectors of zeros and ones. Then, each word will\n",
    "be mapped to a vector whose size is the number of unique words in the entire dataset. Given that the number of unique words (the size of the vocabulary) can be in the order of $10^4$ – $10^5$, which will also be the number of our input features, a model trained on such features may suffer from the **curse of dimensionality**. Furthermore, these features are very sparse since all are zero except one."
   ]
  },
  {
   "cell_type": "markdown",
   "metadata": {
    "id": "IJDZ4fBFn-70"
   },
   "source": [
    "A more elegant approach is to map each word to a vector of a fixed size with real-valued elements (not necessarily integers). In contrast to the one-hot encoded vectors, we can use finite-sized vectors to represent an infinite number of real numbers. (In theory, we can extract infinite real numbers from a given interval, for example [–1, 1].)"
   ]
  },
  {
   "cell_type": "markdown",
   "metadata": {
    "id": "z802Fvxgn-71"
   },
   "source": [
    "This is the idea behind embedding, which is a feature-learning technique that we utilize here to automatically learn the salient features to represent the words in our dataset."
   ]
  },
  {
   "cell_type": "markdown",
   "metadata": {
    "id": "1U4pZx72n-71"
   },
   "source": [
    "Given the number of unique words, $n_{words}$, we can select the size of the embedding vectors (a.k.a., embedding dimension)\n",
    "to be much smaller than the number of unique words ($embedding\\_dim << n_{words}$) to represent the entire vocabulary as input features."
   ]
  },
  {
   "cell_type": "markdown",
   "metadata": {
    "id": "3vH5juPHn-72"
   },
   "source": [
    "The advantages of embedding over one-hot encoding are as follows:\n",
    "- A reduction in the dimensionality of the feature space to decrease the effect of the curse of dimensionality\n",
    "- The extraction of salient features since the embedding layer in an NN can be optimized (or learned)"
   ]
  },
  {
   "cell_type": "markdown",
   "metadata": {
    "id": "JWBDr3Spn-72"
   },
   "source": [
    "Given a set of tokens of size $n_{words} + 2$ ($n_{words}$) is the size of the token set, plus index 0 is reserved for the padding placeholder, and 1 is for the words not present in the token set), an embedding matrix of size\n",
    "$(n_{words} + 2) \\times embedding\\_dim$ will be created where each row of this matrix represents numeric features\n",
    "associated with a token. Therefore, when an integer index, $i$, is given as input to the embedding, it\n",
    "will look up the corresponding row of the matrix at index $i$ and return the numeric features.\n",
    "\n",
    "The embedding matrix serves as the input layer to the NN models. In practice, creating an embedding layer can simply be done using `nn.Embedding`. Let’s see an example where we create an embedding layer and apply it to a batch of two samples."
   ]
  },
  {
   "cell_type": "code",
   "execution_count": null,
   "metadata": {
    "colab": {
     "base_uri": "https://localhost:8080/"
    },
    "id": "6oQD3xJIn-73",
    "outputId": "2781388d-9bd1-4bb8-b2a6-3ad6c757f555"
   },
   "outputs": [
    {
     "name": "stdout",
     "output_type": "stream",
     "text": [
      "tensor([[[ 0.7039, -0.8321, -0.4651],\n",
      "         [-0.3203,  2.2408,  0.5566],\n",
      "         [-0.4643,  0.3046,  0.7046],\n",
      "         [-0.7106, -0.2959,  0.8356],\n",
      "         [ 0.4025, -0.6924, -0.4442]],\n",
      "\n",
      "        [[-0.4643,  0.3046,  0.7046],\n",
      "         [ 0.0946, -0.3531,  0.9124],\n",
      "         [-0.3203,  2.2408,  0.5566],\n",
      "         [ 0.4025, -0.6924, -0.4442],\n",
      "         [ 0.0000,  0.0000,  0.0000]]], grad_fn=<EmbeddingBackward0>)\n"
     ]
    }
   ],
   "source": [
    "embedding = nn.Embedding(num_embeddings=10,\n",
    "                         embedding_dim=3,\n",
    "                         padding_idx=0)\n",
    "\n",
    "# a batch of 2 samples of 5 indices each\n",
    "text_encoded_input = torch.LongTensor([[1,2,4,5,6],[4,3,2,6,0]])\n",
    "print(embedding(text_encoded_input))"
   ]
  },
  {
   "cell_type": "markdown",
   "metadata": {
    "id": "rEeun754n-73"
   },
   "source": [
    "The input to this model (embedding layer) must have rank 2 with the dimensionality $batchsize \\times input\\_length$, where $input\\_length$ is the length of sequences (here, 5)."
   ]
  },
  {
   "cell_type": "markdown",
   "metadata": {
    "id": "xb32bTH6n-74"
   },
   "source": [
    "For example, an input sequence in the mini-batch could be $<1, 8, 5, 9, 2>$, where each element of this sequence is the index of the unique words. The output will have the dimensionality $batchsize \\times input\\_length \\times embedding\\_dim$, where $embedding\\_dim$ is the size of the embedding features (here, set to 4)."
   ]
  },
  {
   "cell_type": "markdown",
   "metadata": {
    "id": "qzOaYKI-n-74"
   },
   "source": [
    "The other argument provided to the embedding layer, `num_embeddings`, corresponds to the unique integer values that the model will receive as input (for instance, $n + 2$, set here to 10). Therefore, the embedding matrix in this case has the size $10 \\times 4$."
   ]
  },
  {
   "cell_type": "markdown",
   "metadata": {
    "id": "Z-x-_r1bn-75"
   },
   "source": [
    "`padding_idx` indicates the token index for padding (here, 0), which, if specified, will not contribute to the gradient updates during training. In our example, the length of the original sequence of the second sample is 4, and we padded it with 1 more element 0. The embedding output of the padded element is [0, 0, 0, 0]."
   ]
  },
  {
   "cell_type": "markdown",
   "metadata": {
    "id": "ye6QiQjYn-75"
   },
   "source": [
    "### Building an RNN model"
   ]
  },
  {
   "cell_type": "markdown",
   "metadata": {
    "id": "3MLV9x4gn-75"
   },
   "source": [
    "Now we are ready to build an RNN model. Using the `nn.Module` class, we can combine the embedding layer, the recurrent layers of the RNN, and the fully connected non-recurrent layers. For the recurrent layers, we can use any of the following implementations:"
   ]
  },
  {
   "cell_type": "markdown",
   "metadata": {
    "id": "5xjuNo2Wn-76"
   },
   "source": [
    "\n",
    "* **RNN layers:**\n",
    "  * `nn.RNN(input_size, hidden_size, num_layers=1)`\n",
    "  * `nn.LSTM(..)`\n",
    "  * `nn.GRU(..)`\n",
    "  * `nn.RNN(input_size, hidden_size, num_layers=1, bidirectional=True)`\n",
    "\n"
   ]
  },
  {
   "cell_type": "markdown",
   "metadata": {
    "id": "umO2AvmRn-76"
   },
   "source": [
    "To see how a multilayer RNN model can be built using one of these recurrent layers, in the following example, we create an RNN model with two recurrent layers of type RNN. Finally, we add a non-recurrent fully connected layer as the output layer, which returns a single output value as the prediction."
   ]
  },
  {
   "cell_type": "code",
   "execution_count": null,
   "metadata": {
    "colab": {
     "base_uri": "https://localhost:8080/"
    },
    "id": "MDfq6mGjn-76",
    "outputId": "3298ea33-b96d-4c03-de83-946eb55fd51b"
   },
   "outputs": [
    {
     "name": "stdout",
     "output_type": "stream",
     "text": [
      "RNN(\n",
      "  (rnn): RNN(64, 32, num_layers=2, batch_first=True)\n",
      "  (fc): Linear(in_features=32, out_features=1, bias=True)\n",
      ")\n"
     ]
    },
    {
     "data": {
      "text/plain": [
       "tensor([[ 0.3183],\n",
       "        [ 0.1230],\n",
       "        [ 0.1772],\n",
       "        [-0.1052],\n",
       "        [-0.1259],\n",
       "        [ 0.2706],\n",
       "        [ 0.0404],\n",
       "        [-0.1763],\n",
       "        [ 0.3445],\n",
       "        [ 0.3219]], grad_fn=<AddmmBackward0>)"
      ]
     },
     "execution_count": 12,
     "metadata": {},
     "output_type": "execute_result"
    }
   ],
   "source": [
    "## An example of building a RNN model\n",
    "## with simple RNN layer\n",
    "\n",
    "# Fully connected neural network with one hidden layer\n",
    "class RNN(nn.Module):\n",
    "    def __init__(self, input_size, hidden_size):\n",
    "        super().__init__()\n",
    "        self.rnn = nn.RNN(input_size,\n",
    "                          hidden_size,\n",
    "                          num_layers=2,\n",
    "                          batch_first=True)\n",
    "        #self.gru = nn.GRU(input_size, hidden_size, num_layers, batch_first=True)\n",
    "        #self.lstm = nn.LSTM(input_size, hidden_size, num_layers, batch_first=True)\n",
    "        self.fc = nn.Linear(hidden_size, 1) # output dimension is 1\n",
    "\n",
    "    def forward(self, x):\n",
    "        _, hidden = self.rnn(x)\n",
    "        out = hidden[-1, :, :] # take the output of last recurrent hidden layer\n",
    "        out = self.fc(out)\n",
    "        return out\n",
    "\n",
    "model = RNN(64, 32)\n",
    "\n",
    "print(model)\n",
    "\n",
    "model(torch.randn(10, 3, 64)) # Recall the input shape is (batch_size, sequence_length, features)"
   ]
  },
  {
   "cell_type": "markdown",
   "metadata": {
    "id": "PICp1YMIn-77"
   },
   "source": [
    "### Building an RNN model for the sentiment analysis task"
   ]
  },
  {
   "cell_type": "markdown",
   "metadata": {
    "id": "l0l9RZdpn-77"
   },
   "source": [
    "Since we have very long sequences in the movie reviews, we use an LSTM layer to account for long-range effects. We create an RNN model for sentiment analysis, starting with an embedding layer producing word embeddings of feature size 20 (`embed_dim=20`).\n",
    "\n",
    "Then, a recurrent layer of type LSTM will be added. Finally, we add a fully connected layer as a hidden layer and another fully connected layer as the output layer, which returns a single class-membership probability value via the logistic sigmoid\n",
    "activation as the prediction."
   ]
  },
  {
   "cell_type": "code",
   "execution_count": 11,
   "metadata": {
    "colab": {
     "base_uri": "https://localhost:8080/"
    },
    "id": "UzGQI1oBn-77",
    "outputId": "f4df2c8b-fb2b-4148-8153-10842a27a975"
   },
   "outputs": [
    {
     "data": {
      "text/plain": [
       "RNN(\n",
       "  (embedding): Embedding(69025, 20, padding_idx=0)\n",
       "  (rnn): LSTM(20, 64, batch_first=True)\n",
       "  (fc1): Linear(in_features=64, out_features=64, bias=True)\n",
       "  (relu): ReLU()\n",
       "  (fc2): Linear(in_features=64, out_features=1, bias=True)\n",
       "  (sigmoid): Sigmoid()\n",
       ")"
      ]
     },
     "execution_count": 11,
     "metadata": {},
     "output_type": "execute_result"
    }
   ],
   "source": [
    "class RNN(nn.Module):\n",
    "    def __init__(self, vocab_size, embed_dim, rnn_hidden_size, fc_hidden_size):\n",
    "        super().__init__()\n",
    "        self.embedding = nn.Embedding(vocab_size,\n",
    "                                      embed_dim,\n",
    "                                      padding_idx=0)\n",
    "        self.rnn = nn.LSTM(embed_dim, rnn_hidden_size,\n",
    "                           batch_first=True)  # checks for the first dimension being the batch size\n",
    "        self.fc1 = nn.Linear(rnn_hidden_size, fc_hidden_size)\n",
    "        self.relu = nn.ReLU()\n",
    "        self.fc2 = nn.Linear(fc_hidden_size, 1)\n",
    "        self.sigmoid = nn.Sigmoid()\n",
    "\n",
    "    def forward(self, text, lengths):\n",
    "        out = self.embedding(text)\n",
    "        out = nn.utils.rnn.pack_padded_sequence(out, lengths.cpu().numpy(), enforce_sorted=False, batch_first=True)\n",
    "        out, (hidden, cell) = self.rnn(out) # note the cell output from LSTM\n",
    "        out = hidden[-1, :, :]\n",
    "        out = self.fc1(out)\n",
    "        out = self.relu(out)\n",
    "        out = self.fc2(out)\n",
    "        out = self.sigmoid(out)\n",
    "        return out\n",
    "\n",
    "vocab_size = len(vocab)\n",
    "embed_dim = 20\n",
    "rnn_hidden_size = 64\n",
    "fc_hidden_size = 64\n",
    "\n",
    "torch.manual_seed(1)\n",
    "model = RNN(vocab_size, embed_dim, rnn_hidden_size, fc_hidden_size)\n",
    "model = model.to(device)\n",
    "model"
   ]
  },
  {
   "cell_type": "markdown",
   "metadata": {
    "id": "ZC-MQF4Zn-78"
   },
   "source": [
    "Next we develop the `train` function to train the model on the given dataset for one epoch and return the classification accuracy and loss."
   ]
  },
  {
   "cell_type": "code",
   "execution_count": 14,
   "metadata": {
    "id": "lq584UcXn-78"
   },
   "outputs": [],
   "source": [
    "def train(dataloader):\n",
    "    model.train()\n",
    "    total_acc, total_loss = 0, 0\n",
    "    for text_batch, label_batch, lengths in dataloader:\n",
    "        optimizer.zero_grad()\n",
    "        pred = model(text_batch, lengths)[:, 0]\n",
    "        loss = loss_fn(pred, label_batch)\n",
    "        loss.backward()\n",
    "        optimizer.step()\n",
    "        total_acc += ((pred>=0.5).float() == label_batch).float().sum().item()\n",
    "        total_loss += loss.item()*label_batch.size(0)\n",
    "    return total_acc/len(dataloader.dataset), total_loss/len(dataloader.dataset)\n",
    "\n",
    "def evaluate(dataloader):\n",
    "    model.eval()\n",
    "    total_acc, total_loss = 0, 0\n",
    "    with torch.no_grad():\n",
    "        for text_batch, label_batch, lengths in dataloader:\n",
    "            pred = model(text_batch, lengths)[:, 0]\n",
    "            loss = loss_fn(pred, label_batch)\n",
    "            total_acc += ((pred>=0.5).float() == label_batch).float().sum().item()\n",
    "            total_loss += loss.item()*label_batch.size(0)\n",
    "    return total_acc/len(dataloader.dataset), total_loss/len(dataloader.dataset)\n"
   ]
  },
  {
   "cell_type": "markdown",
   "metadata": {
    "id": "wBclQR8Zn-79"
   },
   "source": [
    "Similarly, we will develop the `evaluate` function to measure the model’s performance on a given dataset. For a binary classification with a single class-membership probability output, we use the binary cross-entropy loss (`BCELoss`) as the loss function."
   ]
  },
  {
   "cell_type": "markdown",
   "metadata": {
    "id": "DoIiic1Ln-79"
   },
   "source": [
    "We train the model for 10 epochs and display the training and validation performances."
   ]
  },
  {
   "cell_type": "code",
   "execution_count": 15,
   "metadata": {
    "colab": {
     "base_uri": "https://localhost:8080/"
    },
    "id": "BXbkjxrFn-79",
    "outputId": "4bc75c75-3115-4466-a02a-ceecfb6ffa38"
   },
   "outputs": [
    {
     "name": "stdout",
     "output_type": "stream",
     "text": [
      "Epoch 0 accuracy: 0.6476 val_accuracy: 0.6900\n",
      "Epoch 1 accuracy: 0.7497 val_accuracy: 0.7734\n",
      "Epoch 2 accuracy: 0.7668 val_accuracy: 0.7488\n",
      "Epoch 3 accuracy: 0.7560 val_accuracy: 0.7234\n",
      "Epoch 4 accuracy: 0.8153 val_accuracy: 0.8088\n",
      "Epoch 5 accuracy: 0.8423 val_accuracy: 0.8288\n",
      "Epoch 6 accuracy: 0.8991 val_accuracy: 0.8238\n",
      "Epoch 7 accuracy: 0.9205 val_accuracy: 0.8560\n",
      "Epoch 8 accuracy: 0.9366 val_accuracy: 0.8636\n",
      "Epoch 9 accuracy: 0.9509 val_accuracy: 0.8598\n"
     ]
    }
   ],
   "source": [
    "loss_fn = nn.BCELoss()\n",
    "optimizer = torch.optim.Adam(model.parameters(), lr=0.001)\n",
    "\n",
    "num_epochs = 10\n",
    "\n",
    "torch.manual_seed(1)\n",
    "\n",
    "for epoch in range(num_epochs):\n",
    "    acc_train, loss_train = train(train_dl)\n",
    "    acc_valid, loss_valid = evaluate(valid_dl)\n",
    "    print(f'Epoch {epoch} accuracy: {acc_train:.4f} val_accuracy: {acc_valid:.4f}')\n"
   ]
  },
  {
   "cell_type": "markdown",
   "metadata": {
    "id": "IEQibTkSn-7-"
   },
   "source": [
    "After training this model for 10 epochs, we evaluate it on the test data."
   ]
  },
  {
   "cell_type": "code",
   "execution_count": 16,
   "metadata": {
    "colab": {
     "base_uri": "https://localhost:8080/"
    },
    "id": "Kq7xQVgkn-7-",
    "outputId": "64bab3a4-7f55-47bd-a4da-73bff774a3d1"
   },
   "outputs": [
    {
     "name": "stdout",
     "output_type": "stream",
     "text": [
      "test_accuracy: 0.8583\n"
     ]
    }
   ],
   "source": [
    "acc_test, _ = evaluate(test_dl)\n",
    "print(f'test_accuracy: {acc_test:.4f}')"
   ]
  },
  {
   "cell_type": "markdown",
   "metadata": {
    "id": "bdzIgYm7n-7-"
   },
   "source": [
    "Note that the above model is not the best when compared to the state-of-the-art methods used on the IMDb dataset."
   ]
  },
  {
   "cell_type": "markdown",
   "metadata": {
    "id": "cgSjAaSDn-7_"
   },
   "source": [
    "#### The bidirectional RNN"
   ]
  },
  {
   "cell_type": "markdown",
   "metadata": {
    "id": "EiRKYiZQn-7_"
   },
   "source": [
    "We can set the bidirectional configuration of the LSTM to `True`, which will make the recurrent layer pass through the input sequences from both directions, start to end, as well as in the reverse direction."
   ]
  },
  {
   "cell_type": "code",
   "execution_count": 17,
   "metadata": {
    "id": "xI8gB1jmn-7_"
   },
   "outputs": [],
   "source": [
    "class RNN(nn.Module):\n",
    "    def __init__(self, vocab_size, embed_dim, rnn_hidden_size, fc_hidden_size):\n",
    "        super().__init__()\n",
    "        self.embedding = nn.Embedding(vocab_size,\n",
    "                                      embed_dim,\n",
    "                                      padding_idx=0)\n",
    "        self.rnn = nn.LSTM(embed_dim, rnn_hidden_size,\n",
    "                           batch_first=True, bidirectional=True)\n",
    "        self.fc1 = nn.Linear(rnn_hidden_size*2, fc_hidden_size)\n",
    "        self.relu = nn.ReLU()\n",
    "        self.fc2 = nn.Linear(fc_hidden_size, 1)\n",
    "        self.sigmoid = nn.Sigmoid()\n",
    "\n",
    "    def forward(self, text, lengths):\n",
    "        out = self.embedding(text)\n",
    "        out = nn.utils.rnn.pack_padded_sequence(out, lengths.cpu().numpy(), enforce_sorted=False, batch_first=True)\n",
    "        _, (hidden, cell) = self.rnn(out)\n",
    "        out = torch.cat((hidden[-2, :, :], hidden[-1, :, :]), dim=1)\n",
    "        out = self.fc1(out)\n",
    "        out = self.relu(out)\n",
    "        out = self.fc2(out)\n",
    "        out = self.sigmoid(out)\n",
    "        return out\n",
    "\n",
    "torch.manual_seed(1)\n",
    "model = RNN(vocab_size, embed_dim, rnn_hidden_size, fc_hidden_size)\n",
    "model = model.to(device)"
   ]
  },
  {
   "cell_type": "markdown",
   "metadata": {
    "id": "lzWXh25Hn-8A"
   },
   "source": [
    "The bidirectional RNN layer makes two passes over each input sequence: a forward pass and a reverse\n",
    "or backward pass (note that this is not to be confused with the forward and backward passes in the\n",
    "context of backpropagation). The resulting hidden states of these forward and backward passes are\n",
    "usually concatenated into a single hidden state. Other merge modes include summation, multiplication\n",
    "(multiplying the results of the two passes), and averaging (taking the average of the two)."
   ]
  },
  {
   "cell_type": "code",
   "execution_count": 18,
   "metadata": {
    "colab": {
     "base_uri": "https://localhost:8080/"
    },
    "id": "mJHMoUTGn-8A",
    "outputId": "8d97b204-7fe0-4448-a2a5-830fa0e25100"
   },
   "outputs": [
    {
     "name": "stdout",
     "output_type": "stream",
     "text": [
      "Epoch 0 accuracy: 0.6113 val_accuracy: 0.6826\n",
      "Epoch 1 accuracy: 0.7007 val_accuracy: 0.6758\n",
      "Epoch 2 accuracy: 0.8338 val_accuracy: 0.8362\n",
      "Epoch 3 accuracy: 0.9065 val_accuracy: 0.8650\n",
      "Epoch 4 accuracy: 0.9319 val_accuracy: 0.8620\n",
      "Epoch 5 accuracy: 0.9615 val_accuracy: 0.8598\n",
      "Epoch 6 accuracy: 0.9791 val_accuracy: 0.8772\n",
      "Epoch 7 accuracy: 0.9873 val_accuracy: 0.8742\n",
      "Epoch 8 accuracy: 0.9925 val_accuracy: 0.8736\n",
      "Epoch 9 accuracy: 0.9938 val_accuracy: 0.8734\n"
     ]
    }
   ],
   "source": [
    "loss_fn = nn.BCELoss()\n",
    "optimizer = torch.optim.Adam(model.parameters(), lr=0.002)\n",
    "\n",
    "num_epochs = 10\n",
    "\n",
    "torch.manual_seed(1)\n",
    "\n",
    "for epoch in range(num_epochs):\n",
    "    acc_train, loss_train = train(train_dl)\n",
    "    acc_valid, loss_valid = evaluate(valid_dl)\n",
    "    print(f'Epoch {epoch} accuracy: {acc_train:.4f} val_accuracy: {acc_valid:.4f}')"
   ]
  },
  {
   "cell_type": "code",
   "execution_count": null,
   "metadata": {
    "colab": {
     "background_save": true
    },
    "id": "vyhxlRY3n-8B"
   },
   "outputs": [],
   "source": [
    "# test_dataset = IMDB(split='test')\n",
    "# test_dataset = list(test_dataset)\n",
    "# test_dl = DataLoader(test_dataset, batch_size=batch_size,\n",
    "#                      shuffle=False, collate_fn=collate_batch)"
   ]
  },
  {
   "cell_type": "code",
   "execution_count": 19,
   "metadata": {
    "colab": {
     "base_uri": "https://localhost:8080/"
    },
    "id": "5dKe1AXsn-8B",
    "outputId": "054ac493-b2c3-4fca-ba8a-455ccfc935cc"
   },
   "outputs": [
    {
     "name": "stdout",
     "output_type": "stream",
     "text": [
      "test_accuracy: 0.8602\n"
     ]
    }
   ],
   "source": [
    "acc_test, _ = evaluate(test_dl)\n",
    "print(f'test_accuracy: {acc_test:.4f}')"
   ]
  },
  {
   "cell_type": "markdown",
   "metadata": {
    "id": "wm-xhuN4n-8C"
   },
   "source": [
    "We can also try other types of recurrent layers, such as the regular RNN. However, as it turns out, a model\n",
    "built with regular recurrent layers won’t be able to reach a good predictive performance (even on the\n",
    "training data). For example, if you try replacing the bidirectional LSTM layer in the previous code with\n",
    "a unidirectional `nn.RNN` (instead of `nn.LSTM`) layer and train the model on full-length sequences, you\n",
    "may observe that the loss will not even decrease during training. The reason is that the sequences in\n",
    "this dataset are too long, so a model with an RNN layer cannot learn the long-term dependencies and\n",
    "may suffer from vanishing or exploding gradient problems."
   ]
  }
 ],
 "metadata": {
  "accelerator": "GPU",
  "colab": {
   "gpuType": "T4",
   "provenance": []
  },
  "kernelspec": {
   "display_name": "Python 3 (ipykernel)",
   "language": "python",
   "name": "python3"
  },
  "language_info": {
   "codemirror_mode": {
    "name": "ipython",
    "version": 3
   },
   "file_extension": ".py",
   "mimetype": "text/x-python",
   "name": "python",
   "nbconvert_exporter": "python",
   "pygments_lexer": "ipython3",
   "version": "3.11.7"
  }
 },
 "nbformat": 4,
 "nbformat_minor": 1
}
